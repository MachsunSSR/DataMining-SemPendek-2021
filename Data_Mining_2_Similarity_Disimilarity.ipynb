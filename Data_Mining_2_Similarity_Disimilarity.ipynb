{
  "nbformat": 4,
  "nbformat_minor": 0,
  "metadata": {
    "colab": {
      "name": "Data Mining 2 - Similarity Disimilarity.ipynb",
      "provenance": [],
      "collapsed_sections": [],
      "authorship_tag": "ABX9TyPTD6p9B9L0Rg2Ghia6XADU",
      "include_colab_link": true
    },
    "kernelspec": {
      "name": "python3",
      "display_name": "Python 3"
    },
    "language_info": {
      "name": "python"
    }
  },
  "cells": [
    {
      "cell_type": "markdown",
      "metadata": {
        "id": "view-in-github",
        "colab_type": "text"
      },
      "source": [
        "<a href=\"https://colab.research.google.com/github/MachsunSSR/DataMining-SemPendek-2021/blob/master/Data_Mining_2_Similarity_Disimilarity.ipynb\" target=\"_parent\"><img src=\"https://colab.research.google.com/assets/colab-badge.svg\" alt=\"Open In Colab\"/></a>"
      ]
    },
    {
      "cell_type": "code",
      "metadata": {
        "id": "71UM68xytSU9",
        "colab": {
          "base_uri": "https://localhost:8080/"
        },
        "outputId": "6a8dcb3e-e1c3-4631-9c48-f100e1fb2fe1"
      },
      "source": [
        "import numpy as np\n",
        "data1 = np.array([22, 1, 42, 10])\n",
        "data2 = np.array([20, 0, 36, 8])\n",
        "\n",
        "data_substract = abs(data1 - data2)\n",
        "# data_substract = [2 1 6 2]\n",
        "\n",
        "def euclidean(data):\n",
        "  return np.sqrt(np.sum(np.square(data)))\n",
        "\n",
        "def manhattan(data):\n",
        "  return np.sum(data)\n",
        "\n",
        "def minkowski(data):\n",
        "  n = len(data)\n",
        "  pangkat_minko = sum(data ** n)\n",
        "  return pangkat_minko ** (1/n)\n",
        "\n",
        "def supremum(data):\n",
        "  return max(data)\n",
        "\n",
        "print(\"Euclidean Distance : \", euclidean(data_substract))\n",
        "print(\"Manhattan Distance : \", manhattan(data_substract))\n",
        "print(\"Minkowski Distance : \", minkowski(data_substract))\n",
        "print(\"Supremum Distance : \", supremum(data_substract))"
      ],
      "execution_count": 34,
      "outputs": [
        {
          "output_type": "stream",
          "text": [
            "Euclidean Distance :  6.708203932499369\n",
            "Manhattan Distance :  11\n",
            "Minkowski Distance :  6.037835064583693\n",
            "Supremum Distance :  6\n"
          ],
          "name": "stdout"
        }
      ]
    },
    {
      "cell_type": "code",
      "metadata": {
        "colab": {
          "base_uri": "https://localhost:8080/"
        },
        "id": "v8J8WN0SBiN2",
        "outputId": "3447acd7-075e-4400-9480-071439ae2fcf"
      },
      "source": [
        "print(\"Minkowski Distance : \", minkowski(data_substract))"
      ],
      "execution_count": 6,
      "outputs": [
        {
          "output_type": "stream",
          "text": [
            "Minkowski Distance :  6.037835064583693\n"
          ],
          "name": "stdout"
        }
      ]
    },
    {
      "cell_type": "code",
      "metadata": {
        "colab": {
          "base_uri": "https://localhost:8080/"
        },
        "id": "S5xRJDEg8MOB",
        "outputId": "a9950531-3a62-4191-fc65-b9ef82ac3cc1"
      },
      "source": [
        "data = np.array([\n",
        "        [1.5, 1.7],\n",
        "        [2, 1.9],\n",
        "        [1.6, 1.8],\n",
        "        [1.2, 1.5],\n",
        "        [1.5, 1.0],\n",
        "])\n",
        "\n",
        "x = np.array([1.4, 1.6])\n",
        "\n",
        "data_substract = abs(data - x)\n",
        "#  data_substract=[[0.1 0.1]\n",
        "#                 [0.6 0.3]\n",
        "#                 [0.2 0.2]\n",
        "#                 [0.2 0.1]\n",
        "#                 [0.1 0.6]]\n",
        "\n",
        "def cosine(data1, data2):\n",
        "  dotted_product = np.dot(data1, data2)\n",
        "  data1_norm = np.sqrt(sum(np.square(data1)))\n",
        "  data2_norm = np.sqrt(sum(np.square(data2)))\n",
        "  return dotted_product / (data1_norm * data2_norm)\n",
        "\n",
        "list_euclidean =[euclidean(data) for data in data_substract]\n",
        "list_manhattan =[manhattan(data) for data in data_substract]\n",
        "list_minkowski =[minkowski(data) for data in data_substract]\n",
        "list_supremum =[supremum(data) for data in data_substract]\n",
        "\n",
        "list_cosine =[cosine(elemData, x) for elemData in data]\n",
        "\n",
        "print(\"List Euclidean distance : \", list_euclidean)\n",
        "print(\"List Manhattan distance : \", list_manhattan)\n",
        "print(\"List Minkowski distance : \", list_minkowski)\n",
        "print(\"List Supremum distance : \", list_supremum)\n",
        "print(\"List Cosine distance : \", list_cosine)"
      ],
      "execution_count": 35,
      "outputs": [
        {
          "output_type": "stream",
          "text": [
            "List Euclidean distance :  [0.14142135623730948, 0.6708203932499369, 0.28284271247461906, 0.22360679774997896, 0.608276253029822]\n",
            "List Manhattan distance :  [0.19999999999999996, 0.8999999999999999, 0.40000000000000013, 0.30000000000000004, 0.7000000000000002]\n",
            "List Minkowski distance :  [0.14142135623730948, 0.6708203932499369, 0.28284271247461906, 0.22360679774997896, 0.608276253029822]\n",
            "List Supremum distance :  [0.10000000000000009, 0.6000000000000001, 0.20000000000000018, 0.19999999999999996, 0.6000000000000001]\n",
            "List Cosine distance :  [0.9999913914439558, 0.9957522612528874, 0.9999694838187877, 0.9990282349375618, 0.9653633930282662]\n"
          ],
          "name": "stdout"
        }
      ]
    },
    {
      "cell_type": "code",
      "metadata": {
        "colab": {
          "base_uri": "https://localhost:8080/"
        },
        "id": "DJOL8n_zLeo4",
        "outputId": "a79ccfa3-4a2d-481c-a926-691ff8cfb751"
      },
      "source": [
        "print(\"List cosine distance : \", *list_cosine, sep=\"\\n\")"
      ],
      "execution_count": 42,
      "outputs": [
        {
          "output_type": "stream",
          "text": [
            "List cosine distance : \n",
            "0.9999913914439558\n",
            "0.9957522612528874\n",
            "0.9999694838187877\n",
            "0.9990282349375618\n",
            "0.9653633930282662\n"
          ],
          "name": "stdout"
        }
      ]
    },
    {
      "cell_type": "code",
      "metadata": {
        "id": "n8-720m1T8fB"
      },
      "source": [
        "import pandas as pd\n",
        "def to_dataframe(data):\n",
        "  df = pd.DataFrame(data)\n",
        "  df.columns = [\"disimilarity\"]\n",
        "  df.index = ['x1', 'x2', 'x3', 'x4', 'x5']\n",
        "  return df.sort_values(\"disimilarity\")"
      ],
      "execution_count": 46,
      "outputs": []
    },
    {
      "cell_type": "code",
      "metadata": {
        "colab": {
          "base_uri": "https://localhost:8080/",
          "height": 221
        },
        "id": "LZqKu4iZUO2U",
        "outputId": "0e568f9d-f619-4ab6-eddd-1f85aecd23af"
      },
      "source": [
        "df_euclidean = to_dataframe(list_euclidean)\n",
        "df_manhattan = to_dataframe(list_manhattan)\n",
        "df_minkowski = to_dataframe(list_minkowski)\n",
        "df_supremo = to_dataframe(list_supremo)\n",
        "df_cosine = to_dataframe(list_cosine)"
      ],
      "execution_count": null,
      "outputs": [
        {
          "output_type": "stream",
          "text": [
            "Jarak euclidean :\n"
          ],
          "name": "stdout"
        },
        {
          "output_type": "execute_result",
          "data": {
            "text/html": [
              "<div>\n",
              "<style scoped>\n",
              "    .dataframe tbody tr th:only-of-type {\n",
              "        vertical-align: middle;\n",
              "    }\n",
              "\n",
              "    .dataframe tbody tr th {\n",
              "        vertical-align: top;\n",
              "    }\n",
              "\n",
              "    .dataframe thead th {\n",
              "        text-align: right;\n",
              "    }\n",
              "</style>\n",
              "<table border=\"1\" class=\"dataframe\">\n",
              "  <thead>\n",
              "    <tr style=\"text-align: right;\">\n",
              "      <th></th>\n",
              "      <th>disimilarity</th>\n",
              "    </tr>\n",
              "  </thead>\n",
              "  <tbody>\n",
              "    <tr>\n",
              "      <th>x1</th>\n",
              "      <td>0.141421</td>\n",
              "    </tr>\n",
              "    <tr>\n",
              "      <th>x4</th>\n",
              "      <td>0.223607</td>\n",
              "    </tr>\n",
              "    <tr>\n",
              "      <th>x3</th>\n",
              "      <td>0.282843</td>\n",
              "    </tr>\n",
              "    <tr>\n",
              "      <th>x5</th>\n",
              "      <td>0.608276</td>\n",
              "    </tr>\n",
              "    <tr>\n",
              "      <th>x2</th>\n",
              "      <td>0.670820</td>\n",
              "    </tr>\n",
              "  </tbody>\n",
              "</table>\n",
              "</div>"
            ],
            "text/plain": [
              "    disimilarity\n",
              "x1      0.141421\n",
              "x4      0.223607\n",
              "x3      0.282843\n",
              "x5      0.608276\n",
              "x2      0.670820"
            ]
          },
          "metadata": {
            "tags": []
          },
          "execution_count": 165
        }
      ]
    },
    {
      "cell_type": "code",
      "metadata": {
        "colab": {
          "base_uri": "https://localhost:8080/",
          "height": 221
        },
        "id": "C8_ZgwnVV3D7",
        "outputId": "b6f6bd4f-164f-4e64-92c7-7bed0d2bf62c"
      },
      "source": [
        "df_manhattan = to_dataframe(list_manhattan)\n",
        "print(\"Jarak manhattan :\")\n",
        "df_manhattan"
      ],
      "execution_count": null,
      "outputs": [
        {
          "output_type": "stream",
          "text": [
            "Jarak manhattan :\n"
          ],
          "name": "stdout"
        },
        {
          "output_type": "execute_result",
          "data": {
            "text/html": [
              "<div>\n",
              "<style scoped>\n",
              "    .dataframe tbody tr th:only-of-type {\n",
              "        vertical-align: middle;\n",
              "    }\n",
              "\n",
              "    .dataframe tbody tr th {\n",
              "        vertical-align: top;\n",
              "    }\n",
              "\n",
              "    .dataframe thead th {\n",
              "        text-align: right;\n",
              "    }\n",
              "</style>\n",
              "<table border=\"1\" class=\"dataframe\">\n",
              "  <thead>\n",
              "    <tr style=\"text-align: right;\">\n",
              "      <th></th>\n",
              "      <th>disimilarity</th>\n",
              "    </tr>\n",
              "  </thead>\n",
              "  <tbody>\n",
              "    <tr>\n",
              "      <th>x1</th>\n",
              "      <td>0.2</td>\n",
              "    </tr>\n",
              "    <tr>\n",
              "      <th>x4</th>\n",
              "      <td>0.3</td>\n",
              "    </tr>\n",
              "    <tr>\n",
              "      <th>x3</th>\n",
              "      <td>0.4</td>\n",
              "    </tr>\n",
              "    <tr>\n",
              "      <th>x5</th>\n",
              "      <td>0.7</td>\n",
              "    </tr>\n",
              "    <tr>\n",
              "      <th>x2</th>\n",
              "      <td>0.9</td>\n",
              "    </tr>\n",
              "  </tbody>\n",
              "</table>\n",
              "</div>"
            ],
            "text/plain": [
              "    disimilarity\n",
              "x1           0.2\n",
              "x4           0.3\n",
              "x3           0.4\n",
              "x5           0.7\n",
              "x2           0.9"
            ]
          },
          "metadata": {
            "tags": []
          },
          "execution_count": 166
        }
      ]
    },
    {
      "cell_type": "code",
      "metadata": {
        "colab": {
          "base_uri": "https://localhost:8080/",
          "height": 221
        },
        "id": "bI_rbfpGWXGv",
        "outputId": "b2106841-fe0e-4871-e61d-446191d5934c"
      },
      "source": [
        "df_minkowski = to_dataframe(list_minkowski)\n",
        "print(\"Jarak minkowski :\")\n",
        "df_minkowski"
      ],
      "execution_count": null,
      "outputs": [
        {
          "output_type": "stream",
          "text": [
            "Jarak minkowski :\n"
          ],
          "name": "stdout"
        },
        {
          "output_type": "execute_result",
          "data": {
            "text/html": [
              "<div>\n",
              "<style scoped>\n",
              "    .dataframe tbody tr th:only-of-type {\n",
              "        vertical-align: middle;\n",
              "    }\n",
              "\n",
              "    .dataframe tbody tr th {\n",
              "        vertical-align: top;\n",
              "    }\n",
              "\n",
              "    .dataframe thead th {\n",
              "        text-align: right;\n",
              "    }\n",
              "</style>\n",
              "<table border=\"1\" class=\"dataframe\">\n",
              "  <thead>\n",
              "    <tr style=\"text-align: right;\">\n",
              "      <th></th>\n",
              "      <th>disimilarity</th>\n",
              "    </tr>\n",
              "  </thead>\n",
              "  <tbody>\n",
              "    <tr>\n",
              "      <th>x1</th>\n",
              "      <td>0.141421</td>\n",
              "    </tr>\n",
              "    <tr>\n",
              "      <th>x4</th>\n",
              "      <td>0.223607</td>\n",
              "    </tr>\n",
              "    <tr>\n",
              "      <th>x3</th>\n",
              "      <td>0.282843</td>\n",
              "    </tr>\n",
              "    <tr>\n",
              "      <th>x5</th>\n",
              "      <td>0.608276</td>\n",
              "    </tr>\n",
              "    <tr>\n",
              "      <th>x2</th>\n",
              "      <td>0.670820</td>\n",
              "    </tr>\n",
              "  </tbody>\n",
              "</table>\n",
              "</div>"
            ],
            "text/plain": [
              "    disimilarity\n",
              "x1      0.141421\n",
              "x4      0.223607\n",
              "x3      0.282843\n",
              "x5      0.608276\n",
              "x2      0.670820"
            ]
          },
          "metadata": {
            "tags": []
          },
          "execution_count": 167
        }
      ]
    },
    {
      "cell_type": "code",
      "metadata": {
        "colab": {
          "base_uri": "https://localhost:8080/",
          "height": 221
        },
        "id": "YUGV-dtBWuMW",
        "outputId": "d2882faf-7c9b-451e-a85f-1e2718de1cb6"
      },
      "source": [
        "df_supremum = to_dataframe(list_supremum)\n",
        "print(\"Jarak supremum :\")\n",
        "df_supremum"
      ],
      "execution_count": null,
      "outputs": [
        {
          "output_type": "stream",
          "text": [
            "Jarak supremum :\n"
          ],
          "name": "stdout"
        },
        {
          "output_type": "execute_result",
          "data": {
            "text/html": [
              "<div>\n",
              "<style scoped>\n",
              "    .dataframe tbody tr th:only-of-type {\n",
              "        vertical-align: middle;\n",
              "    }\n",
              "\n",
              "    .dataframe tbody tr th {\n",
              "        vertical-align: top;\n",
              "    }\n",
              "\n",
              "    .dataframe thead th {\n",
              "        text-align: right;\n",
              "    }\n",
              "</style>\n",
              "<table border=\"1\" class=\"dataframe\">\n",
              "  <thead>\n",
              "    <tr style=\"text-align: right;\">\n",
              "      <th></th>\n",
              "      <th>disimilarity</th>\n",
              "    </tr>\n",
              "  </thead>\n",
              "  <tbody>\n",
              "    <tr>\n",
              "      <th>x1</th>\n",
              "      <td>0.1</td>\n",
              "    </tr>\n",
              "    <tr>\n",
              "      <th>x4</th>\n",
              "      <td>0.2</td>\n",
              "    </tr>\n",
              "    <tr>\n",
              "      <th>x3</th>\n",
              "      <td>0.2</td>\n",
              "    </tr>\n",
              "    <tr>\n",
              "      <th>x2</th>\n",
              "      <td>0.6</td>\n",
              "    </tr>\n",
              "    <tr>\n",
              "      <th>x5</th>\n",
              "      <td>0.6</td>\n",
              "    </tr>\n",
              "  </tbody>\n",
              "</table>\n",
              "</div>"
            ],
            "text/plain": [
              "    disimilarity\n",
              "x1           0.1\n",
              "x4           0.2\n",
              "x3           0.2\n",
              "x2           0.6\n",
              "x5           0.6"
            ]
          },
          "metadata": {
            "tags": []
          },
          "execution_count": 168
        }
      ]
    },
    {
      "cell_type": "code",
      "metadata": {
        "id": "pC24CD6eVDJM"
      },
      "source": [
        "import pandas as pd\n",
        "def to_dataframe(data):\n",
        "  df = pd.DataFrame(data)\n",
        "  df.columns = [\"similarity\"]\n",
        "  df.index = ['x1', 'x2', 'x3', 'x4', 'x5']\n",
        "  return df.sort_values(\"similarity\", ascending=False)"
      ],
      "execution_count": 48,
      "outputs": []
    },
    {
      "cell_type": "code",
      "metadata": {
        "colab": {
          "base_uri": "https://localhost:8080/",
          "height": 221
        },
        "id": "ix0v7w1NW3Zc",
        "outputId": "a2caa73c-933b-4547-acb3-14491e61f0d2"
      },
      "source": [
        "df_cosine = to_dataframe(list_cosine)\n",
        "print(\"Cosine Similarity :\")\n",
        "df_cosine"
      ],
      "execution_count": 49,
      "outputs": [
        {
          "output_type": "stream",
          "text": [
            "Cosine Similarity :\n"
          ],
          "name": "stdout"
        },
        {
          "output_type": "execute_result",
          "data": {
            "text/html": [
              "<div>\n",
              "<style scoped>\n",
              "    .dataframe tbody tr th:only-of-type {\n",
              "        vertical-align: middle;\n",
              "    }\n",
              "\n",
              "    .dataframe tbody tr th {\n",
              "        vertical-align: top;\n",
              "    }\n",
              "\n",
              "    .dataframe thead th {\n",
              "        text-align: right;\n",
              "    }\n",
              "</style>\n",
              "<table border=\"1\" class=\"dataframe\">\n",
              "  <thead>\n",
              "    <tr style=\"text-align: right;\">\n",
              "      <th></th>\n",
              "      <th>similarity</th>\n",
              "    </tr>\n",
              "  </thead>\n",
              "  <tbody>\n",
              "    <tr>\n",
              "      <th>x1</th>\n",
              "      <td>0.999991</td>\n",
              "    </tr>\n",
              "    <tr>\n",
              "      <th>x3</th>\n",
              "      <td>0.999969</td>\n",
              "    </tr>\n",
              "    <tr>\n",
              "      <th>x4</th>\n",
              "      <td>0.999028</td>\n",
              "    </tr>\n",
              "    <tr>\n",
              "      <th>x2</th>\n",
              "      <td>0.995752</td>\n",
              "    </tr>\n",
              "    <tr>\n",
              "      <th>x5</th>\n",
              "      <td>0.965363</td>\n",
              "    </tr>\n",
              "  </tbody>\n",
              "</table>\n",
              "</div>"
            ],
            "text/plain": [
              "    similarity\n",
              "x1    0.999991\n",
              "x3    0.999969\n",
              "x4    0.999028\n",
              "x2    0.995752\n",
              "x5    0.965363"
            ]
          },
          "metadata": {
            "tags": []
          },
          "execution_count": 49
        }
      ]
    }
  ]
}