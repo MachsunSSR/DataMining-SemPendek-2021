{
  "nbformat": 4,
  "nbformat_minor": 0,
  "metadata": {
    "colab": {
      "name": "Data Mining 1 - Karakteristik Data.ipynb",
      "provenance": [],
      "collapsed_sections": [],
      "authorship_tag": "ABX9TyPb401Sb0XLXy60gZw4cxsw",
      "include_colab_link": true
    },
    "kernelspec": {
      "name": "python3",
      "display_name": "Python 3"
    },
    "language_info": {
      "name": "python"
    }
  },
  "cells": [
    {
      "cell_type": "markdown",
      "metadata": {
        "id": "view-in-github",
        "colab_type": "text"
      },
      "source": [
        "<a href=\"https://colab.research.google.com/github/MachsunSSR/DataMining-SemPendek-2021/blob/master/Data_Mining_1_Karakteristik_Data.ipynb\" target=\"_parent\"><img src=\"https://colab.research.google.com/assets/colab-badge.svg\" alt=\"Open In Colab\"/></a>"
      ]
    },
    {
      "cell_type": "code",
      "metadata": {
        "id": "fvlS3HYwykGm",
        "colab": {
          "base_uri": "https://localhost:8080/"
        },
        "outputId": "53a0c422-68e8-4aaa-d718-3e2808d2d024"
      },
      "source": [
        "import statistics\n",
        "#Mendefinisikan tuple umur\n",
        "ages = (13,15, 16, 16, 19, 20, 20, 21, 22, 22, 25, \n",
        "        25, 25, 25, 30, 33, 33, 35, 35, 35, 35, 36,\n",
        "        40, 45, 46, 52, 70)\n",
        "\n",
        "# statistics.mean(ages)\n",
        "\n",
        "#a. Mencari Mean\n",
        "totalAges = sum(ages)\n",
        "totalData = len(ages)\n",
        "mean = totalAges/totalData\n",
        "print(mean)"
      ],
      "execution_count": null,
      "outputs": [
        {
          "output_type": "stream",
          "text": [
            "29.962962962962962\n"
          ],
          "name": "stdout"
        }
      ]
    },
    {
      "cell_type": "code",
      "metadata": {
        "colab": {
          "base_uri": "https://localhost:8080/"
        },
        "id": "zhTOp0uoKf-m",
        "outputId": "69f20a7f-cf43-4361-9b27-702a4baf71be"
      },
      "source": [
        "#a. mencari Median\n",
        "def median(tuple):\n",
        "  sorted(tuple)\n",
        "  index_tengah = round(len(tuple)/2)\n",
        "  if(len(tuple) % 2 == 1):\n",
        "    return tuple[round(index_tengah)]\n",
        "  return (tuple[index_tengah] + tuple[index_tengah-1]) / 2\n",
        "\n",
        "median(ages)"
      ],
      "execution_count": null,
      "outputs": [
        {
          "output_type": "execute_result",
          "data": {
            "text/plain": [
              "30"
            ]
          },
          "metadata": {
            "tags": []
          },
          "execution_count": 24
        }
      ]
    },
    {
      "cell_type": "code",
      "metadata": {
        "colab": {
          "base_uri": "https://localhost:8080/"
        },
        "id": "E0ge-qc6Gdy9",
        "outputId": "e34374a9-b9d3-47be-da9d-1c11f19f29ea"
      },
      "source": [
        "#b Mencari mode\n",
        "from collections import Counter\n",
        "def cari_modus(tuple):\n",
        "  freq = Counter(tuple)\n",
        "  return [k for k,v in freq.items() if v == freq.most_common(1)[0][1]]\n",
        "\n",
        "print(\"Modus adalah : \", cari_modus(ages))"
      ],
      "execution_count": null,
      "outputs": [
        {
          "output_type": "stream",
          "text": [
            "Modus adalah :  [25, 35]\n"
          ],
          "name": "stdout"
        }
      ]
    },
    {
      "cell_type": "code",
      "metadata": {
        "colab": {
          "base_uri": "https://localhost:8080/"
        },
        "id": "f8tQ30hhQKrp",
        "outputId": "f7dc66df-6203-4d5b-d5d6-98cafd58b9d0"
      },
      "source": [
        "#c Mencari midrange\n",
        "def cari_midrange(tuple):\n",
        "  minim = min(tuple)\n",
        "  maxim = max(tuple)\n",
        "  return (minim + maxim)/2\n",
        "\n",
        "cari_midrange(ages)"
      ],
      "execution_count": null,
      "outputs": [
        {
          "output_type": "execute_result",
          "data": {
            "text/plain": [
              "41.5"
            ]
          },
          "metadata": {
            "tags": []
          },
          "execution_count": 23
        }
      ]
    },
    {
      "cell_type": "code",
      "metadata": {
        "colab": {
          "base_uri": "https://localhost:8080/"
        },
        "id": "hLQURHrbQtSi",
        "outputId": "9bb90d8f-1a60-4cd0-e46a-81dfc9cce0fe"
      },
      "source": [
        "#d Q1 dan Q3\n",
        "def cari_q1_q3(ages):\n",
        "  sorted(ages)\n",
        "  pembatasq1 = round(len(ages)/4)\n",
        "  pembatasq3 = round(len(ages) * 3/4)\n",
        "  if(len(ages) % 2 == 1):\n",
        "    return ages[pembatasq1], ages[pembatasq3]\n",
        "  else :\n",
        "    q1 = (ages[pembatasq1] + ages[pembatasq1 - 1]) / 2\n",
        "    q2 = (ages[pembatasq3] + ages[pembatasq3 - 1]) / 2\n",
        "    return q1, q2\n",
        "\n",
        "cari_q1_q3(ages)"
      ],
      "execution_count": null,
      "outputs": [
        {
          "output_type": "execute_result",
          "data": {
            "text/plain": [
              "(21, 35)"
            ]
          },
          "metadata": {
            "tags": []
          },
          "execution_count": 7
        }
      ]
    },
    {
      "cell_type": "code",
      "metadata": {
        "colab": {
          "base_uri": "https://localhost:8080/"
        },
        "id": "TEQvT5loTywg",
        "outputId": "9cf5ada6-90e4-4327-c9d4-77fceed50cd9"
      },
      "source": [
        "#five number summary\n",
        "\n",
        "print(\"five number summary\")\n",
        "print(\"nilai minimum \\t: \", min(ages))\n",
        "print(\"nilai Q1 \\t: \", cari_q1_q3(ages)[0])\n",
        "print(\"nilai Median \\t: \", median(ages))\n",
        "print(\"nilai Q3 \\t: \", cari_q1_q3(ages)[1])\n",
        "print(\"nilai maximum \\t: \", max(ages))"
      ],
      "execution_count": null,
      "outputs": [
        {
          "output_type": "stream",
          "text": [
            "five number summary\n",
            "nilai minimum \t:  13\n",
            "nilai Q1 \t:  21\n",
            "nilai Median \t:  30\n",
            "nilai Q3 \t:  35\n",
            "nilai maximum \t:  70\n"
          ],
          "name": "stdout"
        }
      ]
    },
    {
      "cell_type": "code",
      "metadata": {
        "colab": {
          "base_uri": "https://localhost:8080/",
          "height": 265
        },
        "id": "kWEP4V2SVLMR",
        "outputId": "92671cd1-2d69-4ace-eb43-eae2bb967d2b"
      },
      "source": [
        "#import library\n",
        "import matplotlib.pyplot as plt\n",
        "\n",
        "#membuat boxplot\n",
        "plt.boxplot(ages)\n",
        "\n",
        "#menampilkan boxplot\n",
        "plt.show()"
      ],
      "execution_count": null,
      "outputs": [
        {
          "output_type": "display_data",
          "data": {
            "image/png": "[encoded data removed]",
            "text/plain": [
              "<Figure size 432x288 with 1 Axes>"
            ]
          },
          "metadata": {
            "tags": [],
            "needs_background": "light"
          }
        }
      ]
    },
    {
      "cell_type": "markdown",
      "metadata": {
        "id": "W7e9dZq2-Sr1"
      },
      "source": [
        "#Tugas 2"
      ]
    },
    {
      "cell_type": "code",
      "metadata": {
        "colab": {
          "base_uri": "https://localhost:8080/"
        },
        "id": "gd31waL5-T2Y",
        "outputId": "085497c6-331e-41e3-a898-36d6e8ac1eb5"
      },
      "source": [
        "ages = (23, 23, 27,27,39,41,47,49,50, 52,54,54,56,57,58,58,60,61)\n",
        "print(len(ages))\n",
        "\n",
        "fat = (9.5, 26.5, 7.8, 17.8, 31.4, \n",
        "       25.9, 27.4, 27.2, 31.2, \n",
        "       34.6, 42.5, 28.8, 33.4, 30.2, \n",
        "       34.1, 32.9, 41.2, 35.7)\n",
        "print(len(fat))"
      ],
      "execution_count": null,
      "outputs": [
        {
          "output_type": "stream",
          "text": [
            "18\n",
            "18\n"
          ],
          "name": "stdout"
        }
      ]
    },
    {
      "cell_type": "code",
      "metadata": {
        "colab": {
          "base_uri": "https://localhost:8080/"
        },
        "id": "FgGdbuLCXwDF",
        "outputId": "0aa8f349-736d-4dc4-aa57-db620da4d5c1"
      },
      "source": [
        "def cari_mean(data):\n",
        "  return sum(data) / len(data)\n",
        "\n",
        "print(\"rata rata data ages : \", cari_mean(ages))\n",
        "print(\"rata rata data fat : \", cari_mean(fat))"
      ],
      "execution_count": null,
      "outputs": [
        {
          "output_type": "stream",
          "text": [
            "rata rata data ages :  46.44444444444444\n",
            "rata rata data fat :  28.783333333333328\n"
          ],
          "name": "stdout"
        }
      ]
    },
    {
      "cell_type": "code",
      "metadata": {
        "colab": {
          "base_uri": "https://localhost:8080/"
        },
        "id": "teA9OfegYLw_",
        "outputId": "6f8ef04b-e1b4-4376-892f-36d066db1f1d"
      },
      "source": [
        "def cari_median(data):\n",
        "  sorted(data)\n",
        "  index_tengah = round(len(data) / 2)\n",
        "  if len(data) % 2 == 1:\n",
        "    return data[index_tengah]\n",
        "  return (data[index_tengah] + data[index_tengah - 1]) / 2\n",
        "\n",
        "print(\"Median data ages : \", cari_median(ages))\n",
        "print(\"Median data fat : \", cari_median(fat))"
      ],
      "execution_count": null,
      "outputs": [
        {
          "output_type": "stream",
          "text": [
            "Median data ages :  51.0\n",
            "Median data fat :  32.9\n"
          ],
          "name": "stdout"
        }
      ]
    },
    {
      "cell_type": "code",
      "metadata": {
        "colab": {
          "base_uri": "https://localhost:8080/"
        },
        "id": "TYM72JuTqmHo",
        "outputId": "c89249b8-9236-4dc1-bede-3814550c5e2f"
      },
      "source": [
        "cari_q1_q3(ages)"
      ],
      "execution_count": null,
      "outputs": [
        {
          "output_type": "execute_result",
          "data": {
            "text/plain": [
              "(40.0, 58.0)"
            ]
          },
          "metadata": {
            "tags": []
          },
          "execution_count": 86
        }
      ]
    },
    {
      "cell_type": "code",
      "metadata": {
        "colab": {
          "base_uri": "https://localhost:8080/"
        },
        "id": "k9o60c0ua-Ug",
        "outputId": "8fd1da58-d1f9-4426-fc5b-bc40c66261df"
      },
      "source": [
        "import math\n",
        "def cari_std(data):\n",
        "  n = len(data)\n",
        "  mean = sum(data) / n\n",
        "  deviasi = [(x-mean) ** 2 for x in data]\n",
        "  variance = sum(deviasi) / (n-1)\n",
        "  return math.sqrt(variance)\n",
        "\n",
        "print(\"Standar Deviasi data ages : \", cari_std(ages))\n",
        "print(\"Standar Deviasi data fat : \", cari_std(fat))\n"
      ],
      "execution_count": null,
      "outputs": [
        {
          "output_type": "stream",
          "text": [
            "Standar Deviasi data ages :  13.218624215242327\n",
            "Standar Deviasi data fat :  9.2543948224296\n"
          ],
          "name": "stdout"
        }
      ]
    },
    {
      "cell_type": "code",
      "metadata": {
        "colab": {
          "base_uri": "https://localhost:8080/"
        },
        "id": "m-zXRNvEbokW",
        "outputId": "16338b17-f792-441f-8331-7339c2b7c869"
      },
      "source": [
        "import statistics\n",
        "\n",
        "statistics.stdev(ages)\n",
        "statistics.stdev(fat)"
      ],
      "execution_count": null,
      "outputs": [
        {
          "output_type": "execute_result",
          "data": {
            "text/plain": [
              "9.254394822429598"
            ]
          },
          "metadata": {
            "tags": []
          },
          "execution_count": 72
        }
      ]
    },
    {
      "cell_type": "code",
      "metadata": {
        "colab": {
          "base_uri": "https://localhost:8080/",
          "height": 282
        },
        "id": "GkYj32BfoDKL",
        "outputId": "d665ed7a-3eb3-4d3f-df65-b054dab586e7"
      },
      "source": [
        "#import library\n",
        "import matplotlib.pyplot as plt\n",
        "\n",
        "#membuat boxplot\n",
        "plt.boxplot(fat)\n",
        "\n",
        "#menampilkan boxplot\n",
        "print(\"Boxplot Fat : \")\n",
        "plt.show()"
      ],
      "execution_count": null,
      "outputs": [
        {
          "output_type": "stream",
          "text": [
            "Boxplot Fat : \n"
          ],
          "name": "stdout"
        },
        {
          "output_type": "display_data",
          "data": {
            "image/png": "[encoded data removed]",
            "text/plain": [
              "<Figure size 432x288 with 1 Axes>"
            ]
          },
          "metadata": {
            "tags": [],
            "needs_background": "light"
          }
        }
      ]
    }
  ]
}