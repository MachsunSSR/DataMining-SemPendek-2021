{
  "nbformat": 4,
  "nbformat_minor": 0,
  "metadata": {
    "colab": {
      "name": "Data Mining 3 KNN Cross Validation",
      "provenance": [],
      "collapsed_sections": [],
      "authorship_tag": "ABX9TyMY6eW/AA2QmMss8SkWqlwF",
      "include_colab_link": true
    },
    "kernelspec": {
      "name": "python3",
      "display_name": "Python 3"
    },
    "language_info": {
      "name": "python"
    }
  },
  "cells": [
    {
      "cell_type": "markdown",
      "metadata": {
        "id": "view-in-github",
        "colab_type": "text"
      },
      "source": [
        "<a href=\"https://colab.research.google.com/github/MachsunSSR/DataMining-SemPendek-2021/blob/master/Data_Mining_3_KNN_Cross_Validation.ipynb\" target=\"_parent\"><img src=\"https://colab.research.google.com/assets/colab-badge.svg\" alt=\"Open In Colab\"/></a>"
      ]
    },
    {
      "cell_type": "markdown",
      "metadata": {
        "id": "ZTSEUdBiHK_z"
      },
      "source": [
        "#import Library"
      ]
    },
    {
      "cell_type": "code",
      "metadata": {
        "id": "27MWHe6YBtwM"
      },
      "source": [
        "import numpy as np \n",
        "import pandas as pd \n",
        "import matplotlib.pyplot as plt"
      ],
      "execution_count": null,
      "outputs": []
    },
    {
      "cell_type": "markdown",
      "metadata": {
        "id": "mrryvYEAHIel"
      },
      "source": [
        "#Pembuatan Dataframe"
      ]
    },
    {
      "cell_type": "code",
      "metadata": {
        "id": "Au0hpDawEDX-"
      },
      "source": [
        "gender = np.array(['M', 'M',  'M', 'M', 'F', 'F',  \n",
        "                   'F', 'M',  'M', 'M', 'F', 'F', 'F', 'F',])\n",
        "\n",
        "car_type = np.array([\"Family\", \"Sports\",  \"Sports\", \"Sports\", \"Sports\", \"Sports\", \"Luxury\", \n",
        "                     \"Family\",  \"Family\", \"Luxury\", \"Luxury\", \"Luxury\", \"Luxury\",  \"Luxury\"])\n",
        "\n",
        "shirt_size = np.array([\"Small\", \"Medium\", \"Large\",  \"Extra Large\", \"Small\", \"Small\", \"Large\", \n",
        "                       \"Large\",  \"Medium\", \"Extra Large\", \"Small\", \"Medium\", \"Medium\",  \"Large\"])\n",
        "\n",
        "Class = np.array(['C0', 'C0', 'C0',  'C0', 'C0', 'C0', 'C0',\n",
        "                  \"C1\", \"C1\", \"C1\", \"C1\", \"C1\", \"C1\",  \"C1\"])\n",
        "\n",
        "gender2 = np.array(['M',  'M',  'F', \n",
        "                    'M',  'F', 'F',])\n",
        "\n",
        "car_type2 = np.array([\"Sports\",\"Sports\", \"Sports\",\n",
        "                      \"Family\", \"Luxury\",\"Luxury\"])\n",
        "\n",
        "shirt_size2 = np.array([\"Medium\",\"Extra Large\",\"Medium\",\n",
        "                        \"Extra Large\",\"Small\", \"Medium\"])\n",
        "\n",
        "Class2 = np.array(['C0', 'C0','C0', \n",
        "                   \"C1\",\"C1\", \"C1\"])"
      ],
      "execution_count": null,
      "outputs": []
    },
    {
      "cell_type": "code",
      "metadata": {
        "id": "HlDnuJRiEEfp"
      },
      "source": [
        "df_train = pd.DataFrame()\n",
        "df_train[\"Gender\"] = gender\n",
        "df_train[\"Car Type\"]= car_type\n",
        "df_train[\"Shirt Size\"] = shirt_size\n",
        "df_train[\"Class\"] = Class\n",
        "\n",
        "df_test = pd.DataFrame()\n",
        "df_test[\"Gender\"] = gender2\n",
        "df_test[\"Car Type\"]= car_type2\n",
        "df_test[\"Shirt Size\"] = shirt_size2\n",
        "df_test[\"Class\"] = Class2"
      ],
      "execution_count": null,
      "outputs": []
    },
    {
      "cell_type": "markdown",
      "metadata": {
        "id": "CdVvORSSHTm-"
      },
      "source": [
        "##Hasil Dataframe"
      ]
    },
    {
      "cell_type": "code",
      "metadata": {
        "colab": {
          "base_uri": "https://localhost:8080/",
          "height": 483
        },
        "id": "G8UVyf_SGQlg",
        "outputId": "97eeae2d-615a-4272-e0c4-27cea6ac745a"
      },
      "source": [
        "df_train"
      ],
      "execution_count": null,
      "outputs": [
        {
          "output_type": "execute_result",
          "data": {
            "text/html": [
              "<div>\n",
              "<style scoped>\n",
              "    .dataframe tbody tr th:only-of-type {\n",
              "        vertical-align: middle;\n",
              "    }\n",
              "\n",
              "    .dataframe tbody tr th {\n",
              "        vertical-align: top;\n",
              "    }\n",
              "\n",
              "    .dataframe thead th {\n",
              "        text-align: right;\n",
              "    }\n",
              "</style>\n",
              "<table border=\"1\" class=\"dataframe\">\n",
              "  <thead>\n",
              "    <tr style=\"text-align: right;\">\n",
              "      <th></th>\n",
              "      <th>Gender</th>\n",
              "      <th>Car Type</th>\n",
              "      <th>Shirt Size</th>\n",
              "      <th>Class</th>\n",
              "    </tr>\n",
              "  </thead>\n",
              "  <tbody>\n",
              "    <tr>\n",
              "      <th>0</th>\n",
              "      <td>M</td>\n",
              "      <td>Family</td>\n",
              "      <td>Small</td>\n",
              "      <td>C0</td>\n",
              "    </tr>\n",
              "    <tr>\n",
              "      <th>1</th>\n",
              "      <td>M</td>\n",
              "      <td>Sports</td>\n",
              "      <td>Medium</td>\n",
              "      <td>C0</td>\n",
              "    </tr>\n",
              "    <tr>\n",
              "      <th>2</th>\n",
              "      <td>M</td>\n",
              "      <td>Sports</td>\n",
              "      <td>Large</td>\n",
              "      <td>C0</td>\n",
              "    </tr>\n",
              "    <tr>\n",
              "      <th>3</th>\n",
              "      <td>M</td>\n",
              "      <td>Sports</td>\n",
              "      <td>Extra Large</td>\n",
              "      <td>C0</td>\n",
              "    </tr>\n",
              "    <tr>\n",
              "      <th>4</th>\n",
              "      <td>F</td>\n",
              "      <td>Sports</td>\n",
              "      <td>Small</td>\n",
              "      <td>C0</td>\n",
              "    </tr>\n",
              "    <tr>\n",
              "      <th>5</th>\n",
              "      <td>F</td>\n",
              "      <td>Sports</td>\n",
              "      <td>Small</td>\n",
              "      <td>C0</td>\n",
              "    </tr>\n",
              "    <tr>\n",
              "      <th>6</th>\n",
              "      <td>F</td>\n",
              "      <td>Luxury</td>\n",
              "      <td>Large</td>\n",
              "      <td>C0</td>\n",
              "    </tr>\n",
              "    <tr>\n",
              "      <th>7</th>\n",
              "      <td>M</td>\n",
              "      <td>Family</td>\n",
              "      <td>Large</td>\n",
              "      <td>C1</td>\n",
              "    </tr>\n",
              "    <tr>\n",
              "      <th>8</th>\n",
              "      <td>M</td>\n",
              "      <td>Family</td>\n",
              "      <td>Medium</td>\n",
              "      <td>C1</td>\n",
              "    </tr>\n",
              "    <tr>\n",
              "      <th>9</th>\n",
              "      <td>M</td>\n",
              "      <td>Luxury</td>\n",
              "      <td>Extra Large</td>\n",
              "      <td>C1</td>\n",
              "    </tr>\n",
              "    <tr>\n",
              "      <th>10</th>\n",
              "      <td>F</td>\n",
              "      <td>Luxury</td>\n",
              "      <td>Small</td>\n",
              "      <td>C1</td>\n",
              "    </tr>\n",
              "    <tr>\n",
              "      <th>11</th>\n",
              "      <td>F</td>\n",
              "      <td>Luxury</td>\n",
              "      <td>Medium</td>\n",
              "      <td>C1</td>\n",
              "    </tr>\n",
              "    <tr>\n",
              "      <th>12</th>\n",
              "      <td>F</td>\n",
              "      <td>Luxury</td>\n",
              "      <td>Medium</td>\n",
              "      <td>C1</td>\n",
              "    </tr>\n",
              "    <tr>\n",
              "      <th>13</th>\n",
              "      <td>F</td>\n",
              "      <td>Luxury</td>\n",
              "      <td>Large</td>\n",
              "      <td>C1</td>\n",
              "    </tr>\n",
              "  </tbody>\n",
              "</table>\n",
              "</div>"
            ],
            "text/plain": [
              "   Gender Car Type   Shirt Size Class\n",
              "0       M   Family        Small    C0\n",
              "1       M   Sports       Medium    C0\n",
              "2       M   Sports        Large    C0\n",
              "3       M   Sports  Extra Large    C0\n",
              "4       F   Sports        Small    C0\n",
              "5       F   Sports        Small    C0\n",
              "6       F   Luxury        Large    C0\n",
              "7       M   Family        Large    C1\n",
              "8       M   Family       Medium    C1\n",
              "9       M   Luxury  Extra Large    C1\n",
              "10      F   Luxury        Small    C1\n",
              "11      F   Luxury       Medium    C1\n",
              "12      F   Luxury       Medium    C1\n",
              "13      F   Luxury        Large    C1"
            ]
          },
          "metadata": {
            "tags": []
          },
          "execution_count": 124
        }
      ]
    },
    {
      "cell_type": "code",
      "metadata": {
        "colab": {
          "base_uri": "https://localhost:8080/",
          "height": 235
        },
        "id": "FSUbHls0GRTd",
        "outputId": "f8a66dae-1dc0-4681-970b-e0df6ca6112b"
      },
      "source": [
        "df_test"
      ],
      "execution_count": null,
      "outputs": [
        {
          "output_type": "execute_result",
          "data": {
            "text/html": [
              "<div>\n",
              "<style scoped>\n",
              "    .dataframe tbody tr th:only-of-type {\n",
              "        vertical-align: middle;\n",
              "    }\n",
              "\n",
              "    .dataframe tbody tr th {\n",
              "        vertical-align: top;\n",
              "    }\n",
              "\n",
              "    .dataframe thead th {\n",
              "        text-align: right;\n",
              "    }\n",
              "</style>\n",
              "<table border=\"1\" class=\"dataframe\">\n",
              "  <thead>\n",
              "    <tr style=\"text-align: right;\">\n",
              "      <th></th>\n",
              "      <th>Gender</th>\n",
              "      <th>Car Type</th>\n",
              "      <th>Shirt Size</th>\n",
              "      <th>Class</th>\n",
              "    </tr>\n",
              "  </thead>\n",
              "  <tbody>\n",
              "    <tr>\n",
              "      <th>0</th>\n",
              "      <td>M</td>\n",
              "      <td>Sports</td>\n",
              "      <td>Medium</td>\n",
              "      <td>C0</td>\n",
              "    </tr>\n",
              "    <tr>\n",
              "      <th>1</th>\n",
              "      <td>M</td>\n",
              "      <td>Sports</td>\n",
              "      <td>Extra Large</td>\n",
              "      <td>C0</td>\n",
              "    </tr>\n",
              "    <tr>\n",
              "      <th>2</th>\n",
              "      <td>F</td>\n",
              "      <td>Sports</td>\n",
              "      <td>Medium</td>\n",
              "      <td>C0</td>\n",
              "    </tr>\n",
              "    <tr>\n",
              "      <th>3</th>\n",
              "      <td>M</td>\n",
              "      <td>Family</td>\n",
              "      <td>Extra Large</td>\n",
              "      <td>C1</td>\n",
              "    </tr>\n",
              "    <tr>\n",
              "      <th>4</th>\n",
              "      <td>F</td>\n",
              "      <td>Luxury</td>\n",
              "      <td>Small</td>\n",
              "      <td>C1</td>\n",
              "    </tr>\n",
              "    <tr>\n",
              "      <th>5</th>\n",
              "      <td>F</td>\n",
              "      <td>Luxury</td>\n",
              "      <td>Medium</td>\n",
              "      <td>C1</td>\n",
              "    </tr>\n",
              "  </tbody>\n",
              "</table>\n",
              "</div>"
            ],
            "text/plain": [
              "  Gender Car Type   Shirt Size Class\n",
              "0      M   Sports       Medium    C0\n",
              "1      M   Sports  Extra Large    C0\n",
              "2      F   Sports       Medium    C0\n",
              "3      M   Family  Extra Large    C1\n",
              "4      F   Luxury        Small    C1\n",
              "5      F   Luxury       Medium    C1"
            ]
          },
          "metadata": {
            "tags": []
          },
          "execution_count": 125
        }
      ]
    },
    {
      "cell_type": "markdown",
      "metadata": {
        "id": "12KTxZ1xHWzJ"
      },
      "source": [
        "#Preprocessing"
      ]
    },
    {
      "cell_type": "markdown",
      "metadata": {
        "id": "uciOCvLBHZel"
      },
      "source": [
        "###Mengubah data ordinal menjadi bentuk angka"
      ]
    },
    {
      "cell_type": "code",
      "metadata": {
        "id": "kcmnXTifGiaV"
      },
      "source": [
        "# Mengubah bilangan ordinal menjadi range 1 - 4\n",
        "df_train[\"Shirt Size\"].replace({\"Small\": 1, \"Medium\": 2, \"Large\": 3, \"Extra Large\": 4}, inplace=True)\n",
        "df_test[\"Shirt Size\"].replace({\"Small\": 1, \"Medium\": 2, \"Large\": 3, \"Extra Large\": 4}, inplace=True)"
      ],
      "execution_count": null,
      "outputs": []
    },
    {
      "cell_type": "code",
      "metadata": {
        "id": "c0i_9Wd2Gt4z"
      },
      "source": [
        "# mengatur ulang data ordinal\n",
        "def zif(rif, mif):\n",
        "    return round((rif - 1)/(mif - 1), 2)\n",
        "\n",
        "def mutateOrdinal(df):\n",
        "  shirt_size_value = df[\"Shirt Size\"].values\n",
        "  mif = 4\n",
        "  res = [zif(i, mif) for i in shirt_size_value]\n",
        "  return res\n",
        "\n",
        "df_test[\"Shirt Size\"] = mutateOrdinal(df_test)\n",
        "df_train[\"Shirt Size\"] = mutateOrdinal(df_train)\n"
      ],
      "execution_count": null,
      "outputs": []
    },
    {
      "cell_type": "code",
      "metadata": {
        "colab": {
          "base_uri": "https://localhost:8080/",
          "height": 235
        },
        "id": "K4s-bONoL3bJ",
        "outputId": "71023f8d-b9f8-46d5-b3c6-298faeb3b258"
      },
      "source": [
        "df_test"
      ],
      "execution_count": null,
      "outputs": [
        {
          "output_type": "execute_result",
          "data": {
            "text/html": [
              "<div>\n",
              "<style scoped>\n",
              "    .dataframe tbody tr th:only-of-type {\n",
              "        vertical-align: middle;\n",
              "    }\n",
              "\n",
              "    .dataframe tbody tr th {\n",
              "        vertical-align: top;\n",
              "    }\n",
              "\n",
              "    .dataframe thead th {\n",
              "        text-align: right;\n",
              "    }\n",
              "</style>\n",
              "<table border=\"1\" class=\"dataframe\">\n",
              "  <thead>\n",
              "    <tr style=\"text-align: right;\">\n",
              "      <th></th>\n",
              "      <th>Gender</th>\n",
              "      <th>Car Type</th>\n",
              "      <th>Shirt Size</th>\n",
              "      <th>Class</th>\n",
              "    </tr>\n",
              "  </thead>\n",
              "  <tbody>\n",
              "    <tr>\n",
              "      <th>0</th>\n",
              "      <td>M</td>\n",
              "      <td>Sports</td>\n",
              "      <td>0.33</td>\n",
              "      <td>C0</td>\n",
              "    </tr>\n",
              "    <tr>\n",
              "      <th>1</th>\n",
              "      <td>M</td>\n",
              "      <td>Sports</td>\n",
              "      <td>1.00</td>\n",
              "      <td>C0</td>\n",
              "    </tr>\n",
              "    <tr>\n",
              "      <th>2</th>\n",
              "      <td>F</td>\n",
              "      <td>Sports</td>\n",
              "      <td>0.33</td>\n",
              "      <td>C0</td>\n",
              "    </tr>\n",
              "    <tr>\n",
              "      <th>3</th>\n",
              "      <td>M</td>\n",
              "      <td>Family</td>\n",
              "      <td>1.00</td>\n",
              "      <td>C1</td>\n",
              "    </tr>\n",
              "    <tr>\n",
              "      <th>4</th>\n",
              "      <td>F</td>\n",
              "      <td>Luxury</td>\n",
              "      <td>0.00</td>\n",
              "      <td>C1</td>\n",
              "    </tr>\n",
              "    <tr>\n",
              "      <th>5</th>\n",
              "      <td>F</td>\n",
              "      <td>Luxury</td>\n",
              "      <td>0.33</td>\n",
              "      <td>C1</td>\n",
              "    </tr>\n",
              "  </tbody>\n",
              "</table>\n",
              "</div>"
            ],
            "text/plain": [
              "  Gender Car Type  Shirt Size Class\n",
              "0      M   Sports        0.33    C0\n",
              "1      M   Sports        1.00    C0\n",
              "2      F   Sports        0.33    C0\n",
              "3      M   Family        1.00    C1\n",
              "4      F   Luxury        0.00    C1\n",
              "5      F   Luxury        0.33    C1"
            ]
          },
          "metadata": {
            "tags": []
          },
          "execution_count": 128
        }
      ]
    },
    {
      "cell_type": "code",
      "metadata": {
        "colab": {
          "base_uri": "https://localhost:8080/",
          "height": 483
        },
        "id": "C-07byQJL0Mq",
        "outputId": "02c608e1-40bb-4bf5-bdcd-16f9daa4091f"
      },
      "source": [
        "df_train"
      ],
      "execution_count": null,
      "outputs": [
        {
          "output_type": "execute_result",
          "data": {
            "text/html": [
              "<div>\n",
              "<style scoped>\n",
              "    .dataframe tbody tr th:only-of-type {\n",
              "        vertical-align: middle;\n",
              "    }\n",
              "\n",
              "    .dataframe tbody tr th {\n",
              "        vertical-align: top;\n",
              "    }\n",
              "\n",
              "    .dataframe thead th {\n",
              "        text-align: right;\n",
              "    }\n",
              "</style>\n",
              "<table border=\"1\" class=\"dataframe\">\n",
              "  <thead>\n",
              "    <tr style=\"text-align: right;\">\n",
              "      <th></th>\n",
              "      <th>Gender</th>\n",
              "      <th>Car Type</th>\n",
              "      <th>Shirt Size</th>\n",
              "      <th>Class</th>\n",
              "    </tr>\n",
              "  </thead>\n",
              "  <tbody>\n",
              "    <tr>\n",
              "      <th>0</th>\n",
              "      <td>M</td>\n",
              "      <td>Family</td>\n",
              "      <td>0.00</td>\n",
              "      <td>C0</td>\n",
              "    </tr>\n",
              "    <tr>\n",
              "      <th>1</th>\n",
              "      <td>M</td>\n",
              "      <td>Sports</td>\n",
              "      <td>0.33</td>\n",
              "      <td>C0</td>\n",
              "    </tr>\n",
              "    <tr>\n",
              "      <th>2</th>\n",
              "      <td>M</td>\n",
              "      <td>Sports</td>\n",
              "      <td>0.67</td>\n",
              "      <td>C0</td>\n",
              "    </tr>\n",
              "    <tr>\n",
              "      <th>3</th>\n",
              "      <td>M</td>\n",
              "      <td>Sports</td>\n",
              "      <td>1.00</td>\n",
              "      <td>C0</td>\n",
              "    </tr>\n",
              "    <tr>\n",
              "      <th>4</th>\n",
              "      <td>F</td>\n",
              "      <td>Sports</td>\n",
              "      <td>0.00</td>\n",
              "      <td>C0</td>\n",
              "    </tr>\n",
              "    <tr>\n",
              "      <th>5</th>\n",
              "      <td>F</td>\n",
              "      <td>Sports</td>\n",
              "      <td>0.00</td>\n",
              "      <td>C0</td>\n",
              "    </tr>\n",
              "    <tr>\n",
              "      <th>6</th>\n",
              "      <td>F</td>\n",
              "      <td>Luxury</td>\n",
              "      <td>0.67</td>\n",
              "      <td>C0</td>\n",
              "    </tr>\n",
              "    <tr>\n",
              "      <th>7</th>\n",
              "      <td>M</td>\n",
              "      <td>Family</td>\n",
              "      <td>0.67</td>\n",
              "      <td>C1</td>\n",
              "    </tr>\n",
              "    <tr>\n",
              "      <th>8</th>\n",
              "      <td>M</td>\n",
              "      <td>Family</td>\n",
              "      <td>0.33</td>\n",
              "      <td>C1</td>\n",
              "    </tr>\n",
              "    <tr>\n",
              "      <th>9</th>\n",
              "      <td>M</td>\n",
              "      <td>Luxury</td>\n",
              "      <td>1.00</td>\n",
              "      <td>C1</td>\n",
              "    </tr>\n",
              "    <tr>\n",
              "      <th>10</th>\n",
              "      <td>F</td>\n",
              "      <td>Luxury</td>\n",
              "      <td>0.00</td>\n",
              "      <td>C1</td>\n",
              "    </tr>\n",
              "    <tr>\n",
              "      <th>11</th>\n",
              "      <td>F</td>\n",
              "      <td>Luxury</td>\n",
              "      <td>0.33</td>\n",
              "      <td>C1</td>\n",
              "    </tr>\n",
              "    <tr>\n",
              "      <th>12</th>\n",
              "      <td>F</td>\n",
              "      <td>Luxury</td>\n",
              "      <td>0.33</td>\n",
              "      <td>C1</td>\n",
              "    </tr>\n",
              "    <tr>\n",
              "      <th>13</th>\n",
              "      <td>F</td>\n",
              "      <td>Luxury</td>\n",
              "      <td>0.67</td>\n",
              "      <td>C1</td>\n",
              "    </tr>\n",
              "  </tbody>\n",
              "</table>\n",
              "</div>"
            ],
            "text/plain": [
              "   Gender Car Type  Shirt Size Class\n",
              "0       M   Family        0.00    C0\n",
              "1       M   Sports        0.33    C0\n",
              "2       M   Sports        0.67    C0\n",
              "3       M   Sports        1.00    C0\n",
              "4       F   Sports        0.00    C0\n",
              "5       F   Sports        0.00    C0\n",
              "6       F   Luxury        0.67    C0\n",
              "7       M   Family        0.67    C1\n",
              "8       M   Family        0.33    C1\n",
              "9       M   Luxury        1.00    C1\n",
              "10      F   Luxury        0.00    C1\n",
              "11      F   Luxury        0.33    C1\n",
              "12      F   Luxury        0.33    C1\n",
              "13      F   Luxury        0.67    C1"
            ]
          },
          "metadata": {
            "tags": []
          },
          "execution_count": 129
        }
      ]
    },
    {
      "cell_type": "markdown",
      "metadata": {
        "id": "kdIKREQtJ5-W"
      },
      "source": [
        "###Mengubah data kategorikal menjadi numerik menggunakan One Hot Encoding"
      ]
    },
    {
      "cell_type": "code",
      "metadata": {
        "id": "m97j-Z-GJ_Xa"
      },
      "source": [
        "from sklearn.preprocessing import OneHotEncoder\n",
        "enc = OneHotEncoder(handle_unknown='ignore')\n",
        "\n",
        "enc_df_train = pd.DataFrame(enc.fit_transform(df_train[['Gender', 'Car Type']]).toarray())\n",
        "enc_df_test = pd.DataFrame(enc.transform(df_test[['Gender', 'Car Type']]).toarray())"
      ],
      "execution_count": null,
      "outputs": []
    },
    {
      "cell_type": "code",
      "metadata": {
        "colab": {
          "base_uri": "https://localhost:8080/",
          "height": 235
        },
        "id": "LRUHSB9_MMDK",
        "outputId": "b41b67d7-389a-4967-aca8-76f72ff4ce31"
      },
      "source": [
        "enc_df_test"
      ],
      "execution_count": null,
      "outputs": [
        {
          "output_type": "execute_result",
          "data": {
            "text/html": [
              "<div>\n",
              "<style scoped>\n",
              "    .dataframe tbody tr th:only-of-type {\n",
              "        vertical-align: middle;\n",
              "    }\n",
              "\n",
              "    .dataframe tbody tr th {\n",
              "        vertical-align: top;\n",
              "    }\n",
              "\n",
              "    .dataframe thead th {\n",
              "        text-align: right;\n",
              "    }\n",
              "</style>\n",
              "<table border=\"1\" class=\"dataframe\">\n",
              "  <thead>\n",
              "    <tr style=\"text-align: right;\">\n",
              "      <th></th>\n",
              "      <th>0</th>\n",
              "      <th>1</th>\n",
              "      <th>2</th>\n",
              "      <th>3</th>\n",
              "      <th>4</th>\n",
              "    </tr>\n",
              "  </thead>\n",
              "  <tbody>\n",
              "    <tr>\n",
              "      <th>0</th>\n",
              "      <td>0.0</td>\n",
              "      <td>1.0</td>\n",
              "      <td>0.0</td>\n",
              "      <td>0.0</td>\n",
              "      <td>1.0</td>\n",
              "    </tr>\n",
              "    <tr>\n",
              "      <th>1</th>\n",
              "      <td>0.0</td>\n",
              "      <td>1.0</td>\n",
              "      <td>0.0</td>\n",
              "      <td>0.0</td>\n",
              "      <td>1.0</td>\n",
              "    </tr>\n",
              "    <tr>\n",
              "      <th>2</th>\n",
              "      <td>1.0</td>\n",
              "      <td>0.0</td>\n",
              "      <td>0.0</td>\n",
              "      <td>0.0</td>\n",
              "      <td>1.0</td>\n",
              "    </tr>\n",
              "    <tr>\n",
              "      <th>3</th>\n",
              "      <td>0.0</td>\n",
              "      <td>1.0</td>\n",
              "      <td>1.0</td>\n",
              "      <td>0.0</td>\n",
              "      <td>0.0</td>\n",
              "    </tr>\n",
              "    <tr>\n",
              "      <th>4</th>\n",
              "      <td>1.0</td>\n",
              "      <td>0.0</td>\n",
              "      <td>0.0</td>\n",
              "      <td>1.0</td>\n",
              "      <td>0.0</td>\n",
              "    </tr>\n",
              "    <tr>\n",
              "      <th>5</th>\n",
              "      <td>1.0</td>\n",
              "      <td>0.0</td>\n",
              "      <td>0.0</td>\n",
              "      <td>1.0</td>\n",
              "      <td>0.0</td>\n",
              "    </tr>\n",
              "  </tbody>\n",
              "</table>\n",
              "</div>"
            ],
            "text/plain": [
              "     0    1    2    3    4\n",
              "0  0.0  1.0  0.0  0.0  1.0\n",
              "1  0.0  1.0  0.0  0.0  1.0\n",
              "2  1.0  0.0  0.0  0.0  1.0\n",
              "3  0.0  1.0  1.0  0.0  0.0\n",
              "4  1.0  0.0  0.0  1.0  0.0\n",
              "5  1.0  0.0  0.0  1.0  0.0"
            ]
          },
          "metadata": {
            "tags": []
          },
          "execution_count": 131
        }
      ]
    },
    {
      "cell_type": "markdown",
      "metadata": {
        "id": "9K02dYx6MYGW"
      },
      "source": [
        "###Membuat data X Y train test"
      ]
    },
    {
      "cell_type": "code",
      "metadata": {
        "id": "gaqDQhmWMSxP"
      },
      "source": [
        "#Data train\n",
        "X_train = df_train[\"Shirt Size\"].to_frame().join(enc_df_train)\n",
        "y_train = df_train[\"Class\"]\n",
        "\n",
        "#Data test\n",
        "X_test = df_test[\"Shirt Size\"].to_frame().join(enc_df_test)\n",
        "y_test = df_test[\"Class\"]"
      ],
      "execution_count": null,
      "outputs": []
    },
    {
      "cell_type": "markdown",
      "metadata": {
        "id": "WntxkNTrR3AA"
      },
      "source": [
        "##Training Model & Predicting"
      ]
    },
    {
      "cell_type": "code",
      "metadata": {
        "id": "e2rhwx9aArzL",
        "colab": {
          "base_uri": "https://localhost:8080/"
        },
        "outputId": "4190fd0b-2505-4833-d40b-9bde3701d034"
      },
      "source": [
        "# KNN\n",
        "from sklearn.neighbors import KNeighborsClassifier\n",
        "model = KNeighborsClassifier(n_neighbors=3)\n",
        "\n",
        "model.fit(X_train, y_train)\n",
        "\n",
        "predicted = model.predict(X_test)\n",
        "print(predicted)\n",
        "print(np.array(y_test))"
      ],
      "execution_count": null,
      "outputs": [
        {
          "output_type": "stream",
          "text": [
            "['C0' 'C0' 'C0' 'C1' 'C1' 'C1']\n",
            "['C0' 'C0' 'C0' 'C1' 'C1' 'C1']\n"
          ],
          "name": "stdout"
        }
      ]
    },
    {
      "cell_type": "code",
      "metadata": {
        "id": "Ih3mLk5rB47a",
        "colab": {
          "base_uri": "https://localhost:8080/",
          "height": 283
        },
        "outputId": "5eb8329d-4e97-47d4-ede7-3df59712ec19"
      },
      "source": [
        "from sklearn.metrics import classification_report\n",
        "from sklearn.metrics import plot_confusion_matrix\n",
        "\n",
        "plot_confusion_matrix(model, X_test, y_test)  \n",
        "plt.show()"
      ],
      "execution_count": null,
      "outputs": [
        {
          "output_type": "display_data",
          "data": {
            "image/png": "[encoded data removed]",
            "text/plain": [
              "<Figure size 432x288 with 2 Axes>"
            ]
          },
          "metadata": {
            "tags": [],
            "needs_background": "light"
          }
        }
      ]
    },
    {
      "cell_type": "code",
      "metadata": {
        "id": "FMIu3SIDC1tQ",
        "colab": {
          "base_uri": "https://localhost:8080/"
        },
        "outputId": "3c277dcc-05ac-420f-cedf-0df5f719c5a8"
      },
      "source": [
        "# classification report for precision, recall f1-score and accuracy\n",
        "matrix = classification_report(y_test,predicted)\n",
        "print('Classification report : \\n',matrix)"
      ],
      "execution_count": null,
      "outputs": [
        {
          "output_type": "stream",
          "text": [
            "Classification report : \n",
            "               precision    recall  f1-score   support\n",
            "\n",
            "          C0       1.00      1.00      1.00         3\n",
            "          C1       1.00      1.00      1.00         3\n",
            "\n",
            "    accuracy                           1.00         6\n",
            "   macro avg       1.00      1.00      1.00         6\n",
            "weighted avg       1.00      1.00      1.00         6\n",
            "\n"
          ],
          "name": "stdout"
        }
      ]
    },
    {
      "cell_type": "code",
      "metadata": {
        "id": "HI5B1JjfXNdC"
      },
      "source": [
        "X = X_train.append(X_test)\n",
        "y = y_train.append(y_test)"
      ],
      "execution_count": null,
      "outputs": []
    },
    {
      "cell_type": "code",
      "metadata": {
        "colab": {
          "base_uri": "https://localhost:8080/"
        },
        "id": "xyUjFDO5J9_t",
        "outputId": "282e6244-1662-4a5c-ae48-3b43966e6a23"
      },
      "source": [
        "from sklearn.model_selection import cross_val_score\n",
        "\n",
        "#create a new KNN model\n",
        "knn_cv = KNeighborsClassifier(n_neighbors=3)\n",
        "\n",
        "#train model with cv of 5 \n",
        "cv_scores = cross_val_score(knn_cv, X, y, cv=5)\n",
        "\n",
        "#print each cv score (accuracy) and average them\n",
        "print(cv_scores)\n",
        "print('cv_scores mean:{}'.format(np.mean(cv_scores)))"
      ],
      "execution_count": null,
      "outputs": [
        {
          "output_type": "stream",
          "text": [
            "[0.5  1.   0.5  0.75 1.  ]\n",
            "cv_scores mean:0.75\n"
          ],
          "name": "stdout"
        }
      ]
    },
    {
      "cell_type": "code",
      "metadata": {
        "id": "Px7uZiIbXMl6"
      },
      "source": [
        ""
      ],
      "execution_count": null,
      "outputs": []
    }
  ]
}